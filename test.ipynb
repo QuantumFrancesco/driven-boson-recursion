{
 "cells": [
  {
   "cell_type": "code",
   "execution_count": 86,
   "metadata": {},
   "outputs": [
    {
     "ename": "Exception",
     "evalue": "expression to be normal ordered contains multiple                             kinds of bosons. Not Implemented",
     "output_type": "error",
     "traceback": [
      "\u001b[1;31m---------------------------------------------------------------------------\u001b[0m",
      "\u001b[1;31mException\u001b[0m                                 Traceback (most recent call last)",
      "\u001b[1;32m~\\AppData\\Local\\Temp\\ipykernel_31108\\642874023.py\u001b[0m in \u001b[0;36m<module>\u001b[1;34m\u001b[0m\n\u001b[0;32m    136\u001b[0m \u001b[1;33m\u001b[0m\u001b[0m\n\u001b[0;32m    137\u001b[0m \u001b[1;33m\u001b[0m\u001b[0m\n\u001b[1;32m--> 138\u001b[1;33m \u001b[0mb\u001b[0m \u001b[1;33m=\u001b[0m \u001b[0mAnnilator\u001b[0m\u001b[1;33m(\u001b[0m\u001b[1;34m'a'\u001b[0m\u001b[1;33m)\u001b[0m\u001b[1;33m*\u001b[0m\u001b[0mAnnilator\u001b[0m\u001b[1;33m(\u001b[0m\u001b[1;34m'b'\u001b[0m\u001b[1;33m)\u001b[0m\u001b[1;33m\u001b[0m\u001b[1;33m\u001b[0m\u001b[0m\n\u001b[0m\u001b[0;32m    139\u001b[0m \u001b[0mbr\u001b[0m \u001b[1;33m=\u001b[0m \u001b[0mb\u001b[0m\u001b[1;33m*\u001b[0m\u001b[0mExp\u001b[0m\u001b[1;33m(\u001b[0m\u001b[1;33m-\u001b[0m\u001b[1;36m1\u001b[0m\u001b[1;33m*\u001b[0m\u001b[0mI\u001b[0m\u001b[1;33m*\u001b[0m\u001b[0momega1\u001b[0m\u001b[1;33m*\u001b[0m\u001b[0mt\u001b[0m\u001b[1;33m)\u001b[0m\u001b[1;33m\u001b[0m\u001b[1;33m\u001b[0m\u001b[0m\n\u001b[0;32m    140\u001b[0m \u001b[0mbd\u001b[0m \u001b[1;33m=\u001b[0m \u001b[0mCreator\u001b[0m\u001b[1;33m(\u001b[0m\u001b[1;34m'a'\u001b[0m\u001b[1;33m)\u001b[0m\u001b[1;33m\u001b[0m\u001b[1;33m\u001b[0m\u001b[0m\n",
      "\u001b[1;32mc:\\Users\\franc\\Documents\\GitHub\\driven-boson-recursion\\terms.py\u001b[0m in \u001b[0;36m__mul__\u001b[1;34m(self, other)\u001b[0m\n\u001b[0;32m     31\u001b[0m     \u001b[1;32mdef\u001b[0m \u001b[0m__mul__\u001b[0m\u001b[1;33m(\u001b[0m\u001b[0mself\u001b[0m\u001b[1;33m,\u001b[0m \u001b[0mother\u001b[0m\u001b[1;33m)\u001b[0m\u001b[1;33m:\u001b[0m\u001b[1;33m\u001b[0m\u001b[1;33m\u001b[0m\u001b[0m\n\u001b[0;32m     32\u001b[0m         \u001b[1;32mif\u001b[0m \u001b[0mself\u001b[0m\u001b[1;33m.\u001b[0m\u001b[0mspace\u001b[0m \u001b[1;33m==\u001b[0m \u001b[1;34m\"Hilbert\"\u001b[0m\u001b[1;33m:\u001b[0m\u001b[1;33m\u001b[0m\u001b[1;33m\u001b[0m\u001b[0m\n\u001b[1;32m---> 33\u001b[1;33m             \u001b[1;32mreturn\u001b[0m \u001b[0mself\u001b[0m\u001b[1;33m.\u001b[0m\u001b[0m__mul__Hilbert\u001b[0m\u001b[1;33m(\u001b[0m\u001b[0mother\u001b[0m\u001b[1;33m)\u001b[0m\u001b[1;33m\u001b[0m\u001b[1;33m\u001b[0m\u001b[0m\n\u001b[0m\u001b[0;32m     34\u001b[0m         \u001b[1;32mreturn\u001b[0m \u001b[0mself\u001b[0m\u001b[1;33m.\u001b[0m\u001b[0m__mul__phase\u001b[0m\u001b[1;33m(\u001b[0m\u001b[0mother\u001b[0m\u001b[1;33m)\u001b[0m\u001b[1;33m\u001b[0m\u001b[1;33m\u001b[0m\u001b[0m\n\u001b[0;32m     35\u001b[0m \u001b[1;33m\u001b[0m\u001b[0m\n",
      "\u001b[1;32mc:\\Users\\franc\\Documents\\GitHub\\driven-boson-recursion\\terms.py\u001b[0m in \u001b[0;36m__mul__Hilbert\u001b[1;34m(self, other)\u001b[0m\n\u001b[0;32m    300\u001b[0m                            self.args[2]*other.args[2])\n\u001b[0;32m    301\u001b[0m \u001b[1;33m\u001b[0m\u001b[0m\n\u001b[1;32m--> 302\u001b[1;33m         \u001b[0mno_terms\u001b[0m \u001b[1;33m=\u001b[0m \u001b[0mnormal\u001b[0m\u001b[1;33m(\u001b[0m\u001b[0mself\u001b[0m\u001b[1;33m.\u001b[0m\u001b[0margs\u001b[0m\u001b[1;33m[\u001b[0m\u001b[1;36m1\u001b[0m\u001b[1;33m]\u001b[0m\u001b[1;33m*\u001b[0m\u001b[0mother\u001b[0m\u001b[1;33m.\u001b[0m\u001b[0margs\u001b[0m\u001b[1;33m[\u001b[0m\u001b[1;36m1\u001b[0m\u001b[1;33m]\u001b[0m\u001b[1;33m,\u001b[0m \u001b[0mlam\u001b[0m \u001b[1;33m=\u001b[0m \u001b[0mself\u001b[0m\u001b[1;33m.\u001b[0m\u001b[0mlam\u001b[0m\u001b[1;33m)\u001b[0m\u001b[1;33m\u001b[0m\u001b[1;33m\u001b[0m\u001b[0m\n\u001b[0m\u001b[0;32m    303\u001b[0m         \u001b[0mno_terms\u001b[0m \u001b[1;33m=\u001b[0m \u001b[0mno_terms\u001b[0m\u001b[1;33m.\u001b[0m\u001b[0margs\u001b[0m \u001b[1;32mif\u001b[0m \u001b[0mno_terms\u001b[0m\u001b[1;33m.\u001b[0m\u001b[0mis_Add\u001b[0m \u001b[1;32melse\u001b[0m \u001b[1;33m[\u001b[0m\u001b[0mno_terms\u001b[0m\u001b[1;33m]\u001b[0m\u001b[1;33m\u001b[0m\u001b[1;33m\u001b[0m\u001b[0m\n\u001b[0;32m    304\u001b[0m \u001b[1;33m\u001b[0m\u001b[0m\n",
      "\u001b[1;32mc:\\Users\\franc\\Documents\\GitHub\\driven-boson-recursion\\no.py\u001b[0m in \u001b[0;36mnormal\u001b[1;34m(e, **kw_args)\u001b[0m\n\u001b[0;32m     82\u001b[0m                     \u001b[0mresult\u001b[0m \u001b[1;33m=\u001b[0m  \u001b[0mnormal\u001b[0m\u001b[1;33m(\u001b[0m\u001b[0mnormal\u001b[0m\u001b[1;33m(\u001b[0m\u001b[0mMul\u001b[0m\u001b[1;33m(\u001b[0m\u001b[1;33m*\u001b[0m\u001b[0mstring1\u001b[0m\u001b[1;33m[\u001b[0m\u001b[1;33m:\u001b[0m\u001b[1;36m2\u001b[0m\u001b[1;33m]\u001b[0m\u001b[1;33m)\u001b[0m\u001b[1;33m,\u001b[0m \u001b[1;33m**\u001b[0m\u001b[0mkw_args\u001b[0m\u001b[1;33m)\u001b[0m\u001b[1;33m*\u001b[0m\u001b[0mMul\u001b[0m\u001b[1;33m(\u001b[0m\u001b[1;33m*\u001b[0m\u001b[0mstring1\u001b[0m\u001b[1;33m[\u001b[0m\u001b[1;36m2\u001b[0m\u001b[1;33m:\u001b[0m\u001b[1;33m]\u001b[0m\u001b[1;33m)\u001b[0m\u001b[1;33m,\u001b[0m \u001b[1;33m**\u001b[0m\u001b[0mkw_args\u001b[0m\u001b[1;33m)\u001b[0m\u001b[1;33m\u001b[0m\u001b[1;33m\u001b[0m\u001b[0m\n\u001b[0;32m     83\u001b[0m             \u001b[1;32melse\u001b[0m\u001b[1;33m:\u001b[0m \u001b[1;31m# n = 2,\u001b[0m\u001b[1;33m\u001b[0m\u001b[1;33m\u001b[0m\u001b[0m\n\u001b[1;32m---> 84\u001b[1;33m                 \u001b[0mresult\u001b[0m \u001b[1;33m=\u001b[0m \u001b[0m_normal\u001b[0m\u001b[1;33m(\u001b[0m\u001b[0mstring1\u001b[0m\u001b[1;33m,\u001b[0m \u001b[0mopts\u001b[0m\u001b[1;33m[\u001b[0m\u001b[1;34m'lam'\u001b[0m\u001b[1;33m]\u001b[0m\u001b[1;33m)\u001b[0m\u001b[1;33m\u001b[0m\u001b[1;33m\u001b[0m\u001b[0m\n\u001b[0m\u001b[0;32m     85\u001b[0m             \u001b[0mresult\u001b[0m \u001b[1;33m=\u001b[0m \u001b[0mMul\u001b[0m\u001b[1;33m(\u001b[0m\u001b[1;33m*\u001b[0m\u001b[0mc_part\u001b[0m\u001b[1;33m)\u001b[0m\u001b[1;33m*\u001b[0m\u001b[0mresult\u001b[0m\u001b[1;33m\u001b[0m\u001b[1;33m\u001b[0m\u001b[0m\n\u001b[0;32m     86\u001b[0m \u001b[1;33m\u001b[0m\u001b[0m\n",
      "\u001b[1;32mc:\\Users\\franc\\Documents\\GitHub\\driven-boson-recursion\\no.py\u001b[0m in \u001b[0;36m_normal\u001b[1;34m(string1, lam)\u001b[0m\n\u001b[0;32m    115\u001b[0m \u001b[1;33m\u001b[0m\u001b[0m\n\u001b[0;32m    116\u001b[0m         \u001b[1;32mif\u001b[0m \u001b[0mad\u001b[0m\u001b[1;33m.\u001b[0m\u001b[0margs\u001b[0m\u001b[1;33m[\u001b[0m\u001b[1;36m0\u001b[0m\u001b[1;33m]\u001b[0m \u001b[1;33m!=\u001b[0m \u001b[0ma\u001b[0m\u001b[1;33m.\u001b[0m\u001b[0margs\u001b[0m\u001b[1;33m[\u001b[0m\u001b[1;36m0\u001b[0m\u001b[1;33m]\u001b[0m\u001b[1;33m:\u001b[0m\u001b[1;33m\u001b[0m\u001b[1;33m\u001b[0m\u001b[0m\n\u001b[1;32m--> 117\u001b[1;33m             raise Exception(\"expression to be normal ordered contains multiple \\\n\u001b[0m\u001b[0;32m    118\u001b[0m                             kinds of bosons. Not Implemented\")\n\u001b[0;32m    119\u001b[0m \u001b[1;33m\u001b[0m\u001b[0m\n",
      "\u001b[1;31mException\u001b[0m: expression to be normal ordered contains multiple                             kinds of bosons. Not Implemented"
     ]
    }
   ],
   "source": [
    "#!/usr/bin/env python3\n",
    "# -*- coding: utf-8 -*-\n",
    "\"\"\"\n",
    "Created on Wed Jun 16 21:27:50 2021\n",
    "\n",
    "@author: xiaoxu\n",
    "\"\"\"\n",
    "\n",
    "\n",
    "import sympy as smp\n",
    "from sympy import Number, Add, Mul, Pow, Basic, latex, Symbol, I\n",
    "from sympy.physics.secondquant import  Dagger\n",
    "from copy import deepcopy\n",
    "from printable import Basic as Printable,  B, Bd\n",
    "from terms import Term, Terms, Annilator, Creator, Exp, t\n",
    "import pickle\n",
    "\n",
    "class Kamiltonian(Terms):\n",
    "\n",
    "    Ks = {}\n",
    "\n",
    "    @classmethod\n",
    "    def get(cls, n, k):\n",
    "        \"\"\"\n",
    "        get Kamiltonian K(n)_[k] according to the recursive formula.\n",
    "        \"\"\"\n",
    "        key = str([n,k])\n",
    "        # print(key)\n",
    "\n",
    "        if key in cls.Ks.keys():\n",
    "            return cls.Ks[key]\n",
    "\n",
    "        if n == 0 and k == 0:#base case\n",
    "            raise Exception(\"Base case of recursion not specified\")\n",
    "\n",
    "        elif n == 0 and k == 1:\n",
    "            cls.Ks[key] = S(1).dot().simplify()\n",
    "\n",
    "        elif n != 0 and k == 1:\n",
    "            term1 = S(n+1).dot()\n",
    "            term2 = S(n).lie_der(K(0,0))\n",
    "\n",
    "            cls.Ks[key] = (term1 + term2).simplify()\n",
    "            #this can be alternatively expressed as static of term2 - rotating\n",
    "            #parts of other K(n,k'!=k)\n",
    "\n",
    "        elif k > 1 and k <= n+1:\n",
    "            # print(\"general\")\n",
    "            terms = Terms()\n",
    "            for m in range(n):\n",
    "                # print(m,k-1)\n",
    "                terms += S(n-m).lie_der(K(m,k-1))/smp.S(k)\n",
    "            cls.Ks[key] = terms.simplify()\n",
    "        else:\n",
    "            # print(\"zero case\")\n",
    "            return Terms()\n",
    "        # cls.Ks[key].simplify()\n",
    "        return cls.Ks[key]\n",
    "\n",
    "    @classmethod\n",
    "    def set_H(cls, H):\n",
    "        cls.Ks[str([0,0])] = H.simplify()\n",
    "\n",
    "    @classmethod\n",
    "    def dump(cls, fdir):\n",
    "        with open(fdir,'wb') as f:\n",
    "            pickle.dump(cls.Ks,f)\n",
    "\n",
    "    @classmethod\n",
    "    def load(cls, fdir):\n",
    "        with open(fdir,'rb') as f:\n",
    "            cls.Ks = pickle.load(f)\n",
    "\n",
    "\n",
    "class Generator(Terms):\n",
    "    Ss = {}\n",
    "\n",
    "    @classmethod\n",
    "    def get(cls, n):\n",
    "        \"\"\"\n",
    "        get generator S(n) according to the recursive formula.\n",
    "        \"\"\"\n",
    "        if n in cls.Ss.keys(): return cls.Ss[n]\n",
    "\n",
    "        # print(\"S\"+str(n))\n",
    "        terms = Terms()\n",
    "        if n == 0: return Terms()\n",
    "        if n == 1:\n",
    "            terms += smp.S(-1)*K(0,0)\n",
    "        if n > 1:\n",
    "            terms += smp.S(-1)*S(n-1).lie_der(K(0,0))\n",
    "        for k in range(2, n+1):\n",
    "            # print(k, n-1)\n",
    "            terms += smp.S(-1)*K(n-1,k)\n",
    "        terms = terms.rot().integrate()\n",
    "\n",
    "        cls.Ss[n] = terms.simplify()\n",
    "        # print(\"S\"+str(n)+\"done\")\n",
    "        return cls.Ss[n]\n",
    "\n",
    "    @classmethod\n",
    "    def dump(cls, fdir):\n",
    "        with open(fdir,'wb') as f:\n",
    "            pickle.dump(cls.Ss,f)\n",
    "\n",
    "    @classmethod\n",
    "    def load(cls, fdir):\n",
    "        with open(fdir,'rb') as f:\n",
    "            cls.Ss = pickle.load(f)\n",
    "\n",
    "\n",
    "def K(n,k = -1):\n",
    "    if k!= -1: return Kamiltonian.get(n,k)\n",
    "    Kn = Terms()\n",
    "    for ki in range(n+2):\n",
    "        Kn += Kamiltonian.get(n,ki)\n",
    "    return Kn\n",
    "\n",
    "def S(n):\n",
    "    return Generator.get(n)\n",
    "\n",
    "# Term.set_lambda(smp.S(1))\n",
    "\n",
    "hbar = Symbol(\"hbar\", real=True)\n",
    "\n",
    "omega0 = Symbol('\\omega_a')\n",
    "omega1 = Symbol('\\omega_b')\n",
    "g3 = Symbol('g_3')\n",
    "g4 = Symbol('g_4')\n",
    "g5 = Symbol('g_5')\n",
    "g6 = Symbol('g_6')\n",
    "g7 = Symbol('g_7')\n",
    "g8 = Symbol('g_8')\n",
    "delta = Symbol('\\delta')\n",
    "\n",
    "\n",
    "\n",
    "b = Annilator('a')*Annilator('b')\n",
    "br = b*Exp(-1*I*omega1*t)\n",
    "bd = Creator('a')\n",
    "bdr = bd*Exp(1*I*omega1*t)\n",
    "\n",
    "a = Annilator('a')\n",
    "ar = a*Exp(-1*I*omega0*t)\n",
    "ad = Creator('a')\n",
    "adr = ad*Exp(1*I*omega0*t)\n",
    "\n",
    "pi = Symbol('\\Pi ', complex=True)\n",
    "pir = pi*Exp(-1*I*(omega0-omega1)*t)\n",
    "pis = pi.conjugate()\n",
    "pisr = pis*Exp(1*I*(omega0-omega1)*t)\n",
    "H =  g4*((ar+adr)**4) + g3*((ar+adr)**3) +g5*(ar+adr)**5+g6*(ar+adr)**6+ g7*(ar+adr)**7+g8*(ar+adr)**8\n",
    "#H = g3*(ar+adr)**3+ g4*(ar+adr)**4\n",
    "\n",
    "Kamiltonian.set_H(H)\n",
    "\n",
    "\n"
   ]
  },
  {
   "cell_type": "code",
   "execution_count": 85,
   "metadata": {},
   "outputs": [
    {
     "data": {
      "text/latex": [
       "$\\displaystyle \\frac{- \\frac{i g_{4}}{4} - \\frac{15 i g_{6} \\hbar}{4} - \\frac{105 i g_{8} \\hbar^{2}}{2}}{\\omega_{a}}\\hat{a}^{4}e^{- 4 i \\omega_{a} t}+\\frac{- 2 i g_{4} - 30 i g_{6} \\hbar - 420 i g_{8} \\hbar^{2}}{\\omega_{a}}\\hat{a}\\dagger  \\hat{a}^{3}e^{- 2 i \\omega_{a} t}+\\frac{- 3 i g_{4} \\hbar - \\frac{45 i g_{6} \\hbar^{2}}{2} - 210 i g_{8} \\hbar^{3}}{\\omega_{a}}\\hat{a}^{2}e^{- 2 i \\omega_{a} t}+\\frac{3 i g_{4} \\hbar + \\frac{45 i g_{6} \\hbar^{2}}{2} + 210 i g_{8} \\hbar^{3}}{\\omega_{a}}\\hat{a}\\dagger ^{2}e^{2 i \\omega_{a} t}+\\frac{2 i g_{4} + 30 i g_{6} \\hbar + 420 i g_{8} \\hbar^{2}}{\\omega_{a}}\\hat{a}\\dagger ^{3} \\hat{a}e^{2 i \\omega_{a} t}+\\frac{\\frac{i g_{4}}{4} + \\frac{15 i g_{6} \\hbar}{4} + \\frac{105 i g_{8} \\hbar^{2}}{2}}{\\omega_{a}}\\hat{a}\\dagger ^{4}e^{4 i \\omega_{a} t}+\\frac{- \\frac{i g_{3}}{3} - \\frac{10 i g_{5} \\hbar}{3} - 35 i g_{7} \\hbar^{2}}{\\omega_{a}}\\hat{a}^{3}e^{- 3 i \\omega_{a} t}+\\frac{- 3 i g_{3} - 30 i g_{5} \\hbar - 315 i g_{7} \\hbar^{2}}{\\omega_{a}}\\hat{a}\\dagger  \\hat{a}^{2}e^{- i \\omega_{a} t}+\\frac{- 3 i g_{3} \\hbar - 15 i g_{5} \\hbar^{2} - 105 i g_{7} \\hbar^{3}}{\\omega_{a}}\\hat{a}e^{- i \\omega_{a} t}+\\frac{3 i g_{3} \\hbar + 15 i g_{5} \\hbar^{2} + 105 i g_{7} \\hbar^{3}}{\\omega_{a}}\\hat{a}\\dagger e^{i \\omega_{a} t}+\\frac{3 i g_{3} + 30 i g_{5} \\hbar + 315 i g_{7} \\hbar^{2}}{\\omega_{a}}\\hat{a}\\dagger ^{2} \\hat{a}e^{i \\omega_{a} t}+\\frac{\\frac{i g_{3}}{3} + \\frac{10 i g_{5} \\hbar}{3} + 35 i g_{7} \\hbar^{2}}{\\omega_{a}}\\hat{a}\\dagger ^{3}e^{3 i \\omega_{a} t}+\\frac{- \\frac{i g_{5}}{5} - \\frac{21 i g_{7} \\hbar}{5}}{\\omega_{a}}\\hat{a}^{5}e^{- 5 i \\omega_{a} t}+\\frac{- \\frac{5 i g_{5}}{3} - 35 i g_{7} \\hbar}{\\omega_{a}}\\hat{a}\\dagger  \\hat{a}^{4}e^{- 3 i \\omega_{a} t}+\\frac{- 10 i g_{5} - 210 i g_{7} \\hbar}{\\omega_{a}}\\hat{a}\\dagger ^{2} \\hat{a}^{3}e^{- i \\omega_{a} t}+\\frac{10 i g_{5} + 210 i g_{7} \\hbar}{\\omega_{a}}\\hat{a}\\dagger ^{3} \\hat{a}^{2}e^{i \\omega_{a} t}+\\frac{\\frac{5 i g_{5}}{3} + 35 i g_{7} \\hbar}{\\omega_{a}}\\hat{a}\\dagger ^{4} \\hat{a}e^{3 i \\omega_{a} t}+\\frac{\\frac{i g_{5}}{5} + \\frac{21 i g_{7} \\hbar}{5}}{\\omega_{a}}\\hat{a}\\dagger ^{5}e^{5 i \\omega_{a} t}+\\frac{- \\frac{i g_{6}}{6} - \\frac{14 i g_{8} \\hbar}{3}}{\\omega_{a}}\\hat{a}^{6}e^{- 6 i \\omega_{a} t}+\\frac{- \\frac{3 i g_{6}}{2} - 42 i g_{8} \\hbar}{\\omega_{a}}\\hat{a}\\dagger  \\hat{a}^{5}e^{- 4 i \\omega_{a} t}+\\frac{- \\frac{15 i g_{6}}{2} - 210 i g_{8} \\hbar}{\\omega_{a}}\\hat{a}\\dagger ^{2} \\hat{a}^{4}e^{- 2 i \\omega_{a} t}+\\frac{\\frac{15 i g_{6}}{2} + 210 i g_{8} \\hbar}{\\omega_{a}}\\hat{a}\\dagger ^{4} \\hat{a}^{2}e^{2 i \\omega_{a} t}+\\frac{\\frac{3 i g_{6}}{2} + 42 i g_{8} \\hbar}{\\omega_{a}}\\hat{a}\\dagger ^{5} \\hat{a}e^{4 i \\omega_{a} t}+\\frac{\\frac{i g_{6}}{6} + \\frac{14 i g_{8} \\hbar}{3}}{\\omega_{a}}\\hat{a}\\dagger ^{6}e^{6 i \\omega_{a} t}- \\frac{i g_{7}}{7 \\omega_{a}}\\hat{a}^{7}e^{- 7 i \\omega_{a} t}- \\frac{7 i g_{7}}{5 \\omega_{a}}\\hat{a}\\dagger  \\hat{a}^{6}e^{- 5 i \\omega_{a} t}- \\frac{7 i g_{7}}{\\omega_{a}}\\hat{a}\\dagger ^{2} \\hat{a}^{5}e^{- 3 i \\omega_{a} t}- \\frac{35 i g_{7}}{\\omega_{a}}\\hat{a}\\dagger ^{3} \\hat{a}^{4}e^{- i \\omega_{a} t}+\\frac{35 i g_{7}}{\\omega_{a}}\\hat{a}\\dagger ^{4} \\hat{a}^{3}e^{i \\omega_{a} t}+\\frac{7 i g_{7}}{\\omega_{a}}\\hat{a}\\dagger ^{5} \\hat{a}^{2}e^{3 i \\omega_{a} t}+\\frac{7 i g_{7}}{5 \\omega_{a}}\\hat{a}\\dagger ^{6} \\hat{a}e^{5 i \\omega_{a} t}+\\frac{i g_{7}}{7 \\omega_{a}}\\hat{a}\\dagger ^{7}e^{7 i \\omega_{a} t}- \\frac{i g_{8}}{8 \\omega_{a}}\\hat{a}^{8}e^{- 8 i \\omega_{a} t}- \\frac{4 i g_{8}}{3 \\omega_{a}}\\hat{a}\\dagger  \\hat{a}^{7}e^{- 6 i \\omega_{a} t}- \\frac{7 i g_{8}}{\\omega_{a}}\\hat{a}\\dagger ^{2} \\hat{a}^{6}e^{- 4 i \\omega_{a} t}- \\frac{28 i g_{8}}{\\omega_{a}}\\hat{a}\\dagger ^{3} \\hat{a}^{5}e^{- 2 i \\omega_{a} t}+\\frac{28 i g_{8}}{\\omega_{a}}\\hat{a}\\dagger ^{5} \\hat{a}^{3}e^{2 i \\omega_{a} t}+\\frac{7 i g_{8}}{\\omega_{a}}\\hat{a}\\dagger ^{6} \\hat{a}^{2}e^{4 i \\omega_{a} t}+\\frac{4 i g_{8}}{3 \\omega_{a}}\\hat{a}\\dagger ^{7} \\hat{a}e^{6 i \\omega_{a} t}+\\frac{i g_{8}}{8 \\omega_{a}}\\hat{a}\\dagger ^{8}e^{8 i \\omega_{a} t}$"
      ],
      "text/plain": [
       "Terms(Term(Prefactor((-I*g_4/4 - 15*I*g_6*hbar/4 - 105*I*g_8*hbar**2/2, \\omega_a)), B(a)**4, exp(-4*I*\\omega_a*t)), Term(Prefactor((-2*I*g_4 - 30*I*g_6*hbar - 420*I*g_8*hbar**2, \\omega_a)), Bd(a)*B(a)**3, exp(-2*I*\\omega_a*t)), Term(Prefactor((-3*I*g_4*hbar - 45*I*g_6*hbar**2/2 - 210*I*g_8*hbar**3, \\omega_a)), B(a)**2, exp(-2*I*\\omega_a*t)), Term(Prefactor((3*I*g_4*hbar + 45*I*g_6*hbar**2/2 + 210*I*g_8*hbar**3, \\omega_a)), Bd(a)**2, exp(2*I*\\omega_a*t)), Term(Prefactor((2*I*g_4 + 30*I*g_6*hbar + 420*I*g_8*hbar**2, \\omega_a)), Bd(a)**3*B(a), exp(2*I*\\omega_a*t)), Term(Prefactor((I*g_4/4 + 15*I*g_6*hbar/4 + 105*I*g_8*hbar**2/2, \\omega_a)), Bd(a)**4, exp(4*I*\\omega_a*t)), Term(Prefactor((-I*g_3/3 - 10*I*g_5*hbar/3 - 35*I*g_7*hbar**2, \\omega_a)), B(a)**3, exp(-3*I*\\omega_a*t)), Term(Prefactor((-3*I*g_3 - 30*I*g_5*hbar - 315*I*g_7*hbar**2, \\omega_a)), Bd(a)*B(a)**2, exp(-I*\\omega_a*t)), Term(Prefactor((-3*I*g_3*hbar - 15*I*g_5*hbar**2 - 105*I*g_7*hbar**3, \\omega_a)), B(a), exp(-I*\\omega_a*t)), Term(Prefactor((3*I*g_3*hbar + 15*I*g_5*hbar**2 + 105*I*g_7*hbar**3, \\omega_a)), Bd(a), exp(I*\\omega_a*t)), Term(Prefactor((3*I*g_3 + 30*I*g_5*hbar + 315*I*g_7*hbar**2, \\omega_a)), Bd(a)**2*B(a), exp(I*\\omega_a*t)), Term(Prefactor((I*g_3/3 + 10*I*g_5*hbar/3 + 35*I*g_7*hbar**2, \\omega_a)), Bd(a)**3, exp(3*I*\\omega_a*t)), Term(Prefactor((-I*g_5/5 - 21*I*g_7*hbar/5, \\omega_a)), B(a)**5, exp(-5*I*\\omega_a*t)), Term(Prefactor((-5*I*g_5/3 - 35*I*g_7*hbar, \\omega_a)), Bd(a)*B(a)**4, exp(-3*I*\\omega_a*t)), Term(Prefactor((-10*I*g_5 - 210*I*g_7*hbar, \\omega_a)), Bd(a)**2*B(a)**3, exp(-I*\\omega_a*t)), Term(Prefactor((10*I*g_5 + 210*I*g_7*hbar, \\omega_a)), Bd(a)**3*B(a)**2, exp(I*\\omega_a*t)), Term(Prefactor((5*I*g_5/3 + 35*I*g_7*hbar, \\omega_a)), Bd(a)**4*B(a), exp(3*I*\\omega_a*t)), Term(Prefactor((I*g_5/5 + 21*I*g_7*hbar/5, \\omega_a)), Bd(a)**5, exp(5*I*\\omega_a*t)), Term(Prefactor((-I*g_6/6 - 14*I*g_8*hbar/3, \\omega_a)), B(a)**6, exp(-6*I*\\omega_a*t)), Term(Prefactor((-3*I*g_6/2 - 42*I*g_8*hbar, \\omega_a)), Bd(a)*B(a)**5, exp(-4*I*\\omega_a*t)), Term(Prefactor((-15*I*g_6/2 - 210*I*g_8*hbar, \\omega_a)), Bd(a)**2*B(a)**4, exp(-2*I*\\omega_a*t)), Term(Prefactor((15*I*g_6/2 + 210*I*g_8*hbar, \\omega_a)), Bd(a)**4*B(a)**2, exp(2*I*\\omega_a*t)), Term(Prefactor((3*I*g_6/2 + 42*I*g_8*hbar, \\omega_a)), Bd(a)**5*B(a), exp(4*I*\\omega_a*t)), Term(Prefactor((I*g_6/6 + 14*I*g_8*hbar/3, \\omega_a)), Bd(a)**6, exp(6*I*\\omega_a*t)), Term(Prefactor((-I*g_7/7, \\omega_a)), B(a)**7, exp(-7*I*\\omega_a*t)), Term(Prefactor((-7*I*g_7/5, \\omega_a)), Bd(a)*B(a)**6, exp(-5*I*\\omega_a*t)), Term(Prefactor((-7*I*g_7, \\omega_a)), Bd(a)**2*B(a)**5, exp(-3*I*\\omega_a*t)), Term(Prefactor((-35*I*g_7, \\omega_a)), Bd(a)**3*B(a)**4, exp(-I*\\omega_a*t)), Term(Prefactor((35*I*g_7, \\omega_a)), Bd(a)**4*B(a)**3, exp(I*\\omega_a*t)), Term(Prefactor((7*I*g_7, \\omega_a)), Bd(a)**5*B(a)**2, exp(3*I*\\omega_a*t)), Term(Prefactor((7*I*g_7/5, \\omega_a)), Bd(a)**6*B(a), exp(5*I*\\omega_a*t)), Term(Prefactor((I*g_7/7, \\omega_a)), Bd(a)**7, exp(7*I*\\omega_a*t)), Term(Prefactor((-I*g_8/8, \\omega_a)), B(a)**8, exp(-8*I*\\omega_a*t)), Term(Prefactor((-4*I*g_8/3, \\omega_a)), Bd(a)*B(a)**7, exp(-6*I*\\omega_a*t)), Term(Prefactor((-7*I*g_8, \\omega_a)), Bd(a)**2*B(a)**6, exp(-4*I*\\omega_a*t)), Term(Prefactor((-28*I*g_8, \\omega_a)), Bd(a)**3*B(a)**5, exp(-2*I*\\omega_a*t)), Term(Prefactor((28*I*g_8, \\omega_a)), Bd(a)**5*B(a)**3, exp(2*I*\\omega_a*t)), Term(Prefactor((7*I*g_8, \\omega_a)), Bd(a)**6*B(a)**2, exp(4*I*\\omega_a*t)), Term(Prefactor((4*I*g_8/3, \\omega_a)), Bd(a)**7*B(a), exp(6*I*\\omega_a*t)), Term(Prefactor((I*g_8/8, \\omega_a)), Bd(a)**8, exp(8*I*\\omega_a*t)))"
      ]
     },
     "execution_count": 85,
     "metadata": {},
     "output_type": "execute_result"
    }
   ],
   "source": [
    "S(1)"
   ]
  },
  {
   "cell_type": "code",
   "execution_count": 76,
   "metadata": {},
   "outputs": [
    {
     "data": {
      "text/latex": [
       "$\\displaystyle (3 g_{4} \\hbar^{2} + 15 g_{6} \\hbar^{3} + 105 g_{8} \\hbar^{4} + \\frac{- 11 g_{3}^{2} \\hbar^{2} - 130 g_{3} g_{5} \\hbar^{3} - 1050 g_{3} g_{7} \\hbar^{4} - 42 g_{4}^{2} \\hbar^{3} - 720 g_{4} g_{6} \\hbar^{4} - 7560 g_{4} g_{8} \\hbar^{5} - 449 g_{5}^{2} \\hbar^{4} - 8358 g_{5} g_{7} \\hbar^{5} - 3495 g_{6}^{2} \\hbar^{5} - 82320 g_{6} g_{8} \\hbar^{6} - 44379 g_{7}^{2} \\hbar^{6} - 540120 g_{8}^{2} \\hbar^{7}}{\\omega_{a}})+(70 g_{8} + \\frac{- 1260 g_{3} g_{7} - 660 g_{4} g_{6} - 37800 g_{4} g_{8} \\hbar - 630 g_{5}^{2} - 69300 g_{5} g_{7} \\hbar - 19650 g_{6}^{2} \\hbar - 1540000 g_{6} g_{8} \\hbar^{2} - 1268190 g_{7}^{2} \\hbar^{2} - 26219900 g_{8}^{2} \\hbar^{3}}{\\omega_{a}})\\hat{a}\\dagger ^{4} \\hat{a}^{4}+(20 g_{6} + 560 g_{8} \\hbar + \\frac{- 280 g_{3} g_{5} - 10080 g_{3} g_{7} \\hbar - 68 g_{4}^{2} - 5280 g_{4} g_{6} \\hbar - 146160 g_{4} g_{8} \\hbar^{2} - 5040 g_{5}^{2} \\hbar - 257040 g_{5} g_{7} \\hbar^{2} - 75100 g_{6}^{2} \\hbar^{2} - 3785600 g_{6} g_{8} \\hbar^{3} - 2938320 g_{7}^{2} \\hbar^{3} - 46589200 g_{8}^{2} \\hbar^{4}}{\\omega_{a}})\\hat{a}\\dagger ^{3} \\hat{a}^{3}+(6 g_{4} + 90 g_{6} \\hbar + 1260 g_{8} \\hbar^{2} + \\frac{- 30 g_{3}^{2} - 1260 g_{3} g_{5} \\hbar - 21000 g_{3} g_{7} \\hbar^{2} - 306 g_{4}^{2} \\hbar - 11340 g_{4} g_{6} \\hbar^{2} - 204120 g_{4} g_{8} \\hbar^{3} - 10220 g_{5}^{2} \\hbar^{2} - 325080 g_{5} g_{7} \\hbar^{3} - 102150 g_{6}^{2} \\hbar^{3} - 3742200 g_{6} g_{8} \\hbar^{4} - 2629746 g_{7}^{2} \\hbar^{4} - 35603400 g_{8}^{2} \\hbar^{5}}{\\omega_{a}})\\hat{a}\\dagger ^{2} \\hat{a}^{2}+(12 g_{4} \\hbar + 90 g_{6} \\hbar^{2} + 840 g_{8} \\hbar^{3} + \\frac{- 60 g_{3}^{2} \\hbar - 1100 g_{3} g_{5} \\hbar^{2} - 11760 g_{3} g_{7} \\hbar^{3} - 288 g_{4}^{2} \\hbar^{2} - 6840 g_{4} g_{6} \\hbar^{3} - 90720 g_{4} g_{8} \\hbar^{4} - 5320 g_{5}^{2} \\hbar^{3} - 122556 g_{5} g_{7} \\hbar^{4} - 43650 g_{6}^{2} \\hbar^{4} - 1248240 g_{6} g_{8} \\hbar^{5} - 768852 g_{7}^{2} \\hbar^{5} - 9643200 g_{8}^{2} \\hbar^{6}}{\\omega_{a}})\\hat{a}\\dagger  \\hat{a}+\\frac{- 3024 g_{4} g_{8} - 5544 g_{5} g_{7} - 1572 g_{6}^{2} - 256032 g_{6} g_{8} \\hbar - 216216 g_{7}^{2} \\hbar - 6783952 g_{8}^{2} \\hbar^{2}}{\\omega_{a}}\\hat{a}\\dagger ^{5} \\hat{a}^{5}+\\frac{- 14224 g_{6} g_{8} - 12012 g_{7}^{2} - 781060 g_{8}^{2} \\hbar}{\\omega_{a}}\\hat{a}\\dagger ^{6} \\hat{a}^{6}- \\frac{31880 g_{8}^{2}}{\\omega_{a}}\\hat{a}\\dagger ^{7} \\hat{a}^{7}$"
      ],
      "text/plain": [
       "Terms(Term(Prefactor((-11*g_3**2*hbar**2 - 130*g_3*g_5*hbar**3 - 1050*g_3*g_7*hbar**4 - 42*g_4**2*hbar**3 - 720*g_4*g_6*hbar**4 - 7560*g_4*g_8*hbar**5 - 449*g_5**2*hbar**4 - 8358*g_5*g_7*hbar**5 - 3495*g_6**2*hbar**5 - 82320*g_6*g_8*hbar**6 - 44379*g_7**2*hbar**6 - 540120*g_8**2*hbar**7, \\omega_a), (3*g_4*hbar**2 + 15*g_6*hbar**3 + 105*g_8*hbar**4, 1)), 1, 1), Term(Prefactor((-1260*g_3*g_7 - 660*g_4*g_6 - 37800*g_4*g_8*hbar - 630*g_5**2 - 69300*g_5*g_7*hbar - 19650*g_6**2*hbar - 1540000*g_6*g_8*hbar**2 - 1268190*g_7**2*hbar**2 - 26219900*g_8**2*hbar**3, \\omega_a), (70*g_8, 1)), Bd(a)**4*B(a)**4, 1), Term(Prefactor((-280*g_3*g_5 - 10080*g_3*g_7*hbar - 68*g_4**2 - 5280*g_4*g_6*hbar - 146160*g_4*g_8*hbar**2 - 5040*g_5**2*hbar - 257040*g_5*g_7*hbar**2 - 75100*g_6**2*hbar**2 - 3785600*g_6*g_8*hbar**3 - 2938320*g_7**2*hbar**3 - 46589200*g_8**2*hbar**4, \\omega_a), (20*g_6 + 560*g_8*hbar, 1)), Bd(a)**3*B(a)**3, 1), Term(Prefactor((-30*g_3**2 - 1260*g_3*g_5*hbar - 21000*g_3*g_7*hbar**2 - 306*g_4**2*hbar - 11340*g_4*g_6*hbar**2 - 204120*g_4*g_8*hbar**3 - 10220*g_5**2*hbar**2 - 325080*g_5*g_7*hbar**3 - 102150*g_6**2*hbar**3 - 3742200*g_6*g_8*hbar**4 - 2629746*g_7**2*hbar**4 - 35603400*g_8**2*hbar**5, \\omega_a), (6*g_4 + 90*g_6*hbar + 1260*g_8*hbar**2, 1)), Bd(a)**2*B(a)**2, 1), Term(Prefactor((-60*g_3**2*hbar - 1100*g_3*g_5*hbar**2 - 11760*g_3*g_7*hbar**3 - 288*g_4**2*hbar**2 - 6840*g_4*g_6*hbar**3 - 90720*g_4*g_8*hbar**4 - 5320*g_5**2*hbar**3 - 122556*g_5*g_7*hbar**4 - 43650*g_6**2*hbar**4 - 1248240*g_6*g_8*hbar**5 - 768852*g_7**2*hbar**5 - 9643200*g_8**2*hbar**6, \\omega_a), (12*g_4*hbar + 90*g_6*hbar**2 + 840*g_8*hbar**3, 1)), Bd(a)*B(a), 1), Term(Prefactor((-3024*g_4*g_8 - 5544*g_5*g_7 - 1572*g_6**2 - 256032*g_6*g_8*hbar - 216216*g_7**2*hbar - 6783952*g_8**2*hbar**2, \\omega_a)), Bd(a)**5*B(a)**5, 1), Term(Prefactor((-14224*g_6*g_8 - 12012*g_7**2 - 781060*g_8**2*hbar, \\omega_a)), Bd(a)**6*B(a)**6, 1), Term(Prefactor((-31880*g_8**2, \\omega_a)), Bd(a)**7*B(a)**7, 1))"
      ]
     },
     "execution_count": 76,
     "metadata": {},
     "output_type": "execute_result"
    }
   ],
   "source": [
    "(K(1)+K(0)).simplify()"
   ]
  },
  {
   "cell_type": "code",
   "execution_count": 77,
   "metadata": {},
   "outputs": [
    {
     "data": {
      "text/latex": [
       "$\\displaystyle $"
      ],
      "text/plain": [
       "Terms()"
      ]
     },
     "execution_count": 77,
     "metadata": {},
     "output_type": "execute_result"
    }
   ],
   "source": [
    "(K(1)+K(0)).select(a**3).simplify()"
   ]
  },
  {
   "cell_type": "code",
   "execution_count": 78,
   "metadata": {},
   "outputs": [
    {
     "data": {
      "text/latex": [
       "$\\displaystyle (6 g_{4} + 90 g_{6} \\hbar + 1260 g_{8} \\hbar^{2} + \\frac{- 30 g_{3}^{2} - 1260 g_{3} g_{5} \\hbar - 21000 g_{3} g_{7} \\hbar^{2} - 306 g_{4}^{2} \\hbar - 11340 g_{4} g_{6} \\hbar^{2} - 204120 g_{4} g_{8} \\hbar^{3} - 10220 g_{5}^{2} \\hbar^{2} - 325080 g_{5} g_{7} \\hbar^{3} - 102150 g_{6}^{2} \\hbar^{3} - 3742200 g_{6} g_{8} \\hbar^{4} - 2629746 g_{7}^{2} \\hbar^{4} - 35603400 g_{8}^{2} \\hbar^{5}}{\\omega_{a}})\\hat{a}\\dagger ^{2} \\hat{a}^{2}$"
      ],
      "text/plain": [
       "Terms(Term(Prefactor((-30*g_3**2 - 1260*g_3*g_5*hbar - 21000*g_3*g_7*hbar**2 - 306*g_4**2*hbar - 11340*g_4*g_6*hbar**2 - 204120*g_4*g_8*hbar**3 - 10220*g_5**2*hbar**2 - 325080*g_5*g_7*hbar**3 - 102150*g_6**2*hbar**3 - 3742200*g_6*g_8*hbar**4 - 2629746*g_7**2*hbar**4 - 35603400*g_8**2*hbar**5, \\omega_a), (6*g_4 + 90*g_6*hbar + 1260*g_8*hbar**2, 1)), Bd(a)**2*B(a)**2, 1))"
      ]
     },
     "execution_count": 78,
     "metadata": {},
     "output_type": "execute_result"
    }
   ],
   "source": [
    "(K(1)+K(0)).select(ad**2*a**2).simplify()"
   ]
  },
  {
   "cell_type": "code",
   "execution_count": 41,
   "metadata": {},
   "outputs": [
    {
     "data": {
      "text/latex": [
       "$\\displaystyle (6 g_{4} + 90 g_{6} \\hbar + 1260 g_{8} \\hbar^{2} + \\frac{- 30 g_{3}^{2} - 1260 g_{3} g_{5} \\hbar - 21000 g_{3} g_{7} \\hbar^{2} - 306 g_{4}^{2} \\hbar - 11340 g_{4} g_{6} \\hbar^{2} - 204120 g_{4} g_{8} \\hbar^{3} - 10220 g_{5}^{2} \\hbar^{2} - 325080 g_{5} g_{7} \\hbar^{3} - 102150 g_{6}^{2} \\hbar^{3} - 3742200 g_{6} g_{8} \\hbar^{4} - 2629746 g_{7}^{2} \\hbar^{4} - 35603400 g_{8}^{2} \\hbar^{5}}{\\omega_{a}} + \\frac{8100 g_{3}^{2} g_{4} \\hbar + 174540 g_{3}^{2} g_{6} \\hbar^{2} + 3459960 g_{3}^{2} g_{8} \\hbar^{3} + 309480 g_{3} g_{4} g_{5} \\hbar^{2} + 5700240 g_{3} g_{4} g_{7} \\hbar^{3} + 6153480 g_{3} g_{5} g_{6} \\hbar^{3} + 120869840 g_{3} g_{5} g_{8} \\hbar^{4} + 112543872 g_{3} g_{6} g_{7} \\hbar^{4} + 2265127200 g_{3} g_{7} g_{8} \\hbar^{5} + 25164 g_{4}^{3} \\hbar^{2} + 1564560 g_{4}^{2} g_{6} \\hbar^{3} + 32409720 g_{4}^{2} g_{8} \\hbar^{4} + 2714040 g_{4} g_{5}^{2} \\hbar^{3} + 98630784 g_{4} g_{5} g_{7} \\hbar^{4} + 32148900 g_{4} g_{6}^{2} \\hbar^{4} + 1354963680 g_{4} g_{6} g_{8} \\hbar^{5} + 915279372 g_{4} g_{7}^{2} \\hbar^{5} + 14747216400 g_{4} g_{8}^{2} \\hbar^{6} + 52888720 g_{5}^{2} g_{6} \\hbar^{4} + 1054332720 g_{5}^{2} g_{8} \\hbar^{5} + 1955915640 g_{5} g_{6} g_{7} \\hbar^{5} + 40426091040 g_{5} g_{7} g_{8} \\hbar^{6} + 222536700 g_{6}^{3} \\hbar^{5} + 14451355800 g_{6}^{2} g_{8} \\hbar^{6} + 18691874820 g_{6} g_{7}^{2} \\hbar^{6} + 324905918400 g_{6} g_{8}^{2} \\hbar^{7} + 403196126760 g_{7}^{2} g_{8} \\hbar^{7} + 2537527759200 g_{8}^{3} \\hbar^{8}}{\\omega_{a}^{2}})\\hat{a}\\dagger ^{2} \\hat{a}^{2}$"
      ],
      "text/plain": [
       "Terms(Term(Prefactor((6*g_4 + 90*g_6*hbar + 1260*g_8*hbar**2, 1), (-30*g_3**2 - 1260*g_3*g_5*hbar - 21000*g_3*g_7*hbar**2 - 306*g_4**2*hbar - 11340*g_4*g_6*hbar**2 - 204120*g_4*g_8*hbar**3 - 10220*g_5**2*hbar**2 - 325080*g_5*g_7*hbar**3 - 102150*g_6**2*hbar**3 - 3742200*g_6*g_8*hbar**4 - 2629746*g_7**2*hbar**4 - 35603400*g_8**2*hbar**5, \\omega_a), (8100*g_3**2*g_4*hbar + 174540*g_3**2*g_6*hbar**2 + 3459960*g_3**2*g_8*hbar**3 + 309480*g_3*g_4*g_5*hbar**2 + 5700240*g_3*g_4*g_7*hbar**3 + 6153480*g_3*g_5*g_6*hbar**3 + 120869840*g_3*g_5*g_8*hbar**4 + 112543872*g_3*g_6*g_7*hbar**4 + 2265127200*g_3*g_7*g_8*hbar**5 + 25164*g_4**3*hbar**2 + 1564560*g_4**2*g_6*hbar**3 + 32409720*g_4**2*g_8*hbar**4 + 2714040*g_4*g_5**2*hbar**3 + 98630784*g_4*g_5*g_7*hbar**4 + 32148900*g_4*g_6**2*hbar**4 + 1354963680*g_4*g_6*g_8*hbar**5 + 915279372*g_4*g_7**2*hbar**5 + 14747216400*g_4*g_8**2*hbar**6 + 52888720*g_5**2*g_6*hbar**4 + 1054332720*g_5**2*g_8*hbar**5 + 1955915640*g_5*g_6*g_7*hbar**5 + 40426091040*g_5*g_7*g_8*hbar**6 + 222536700*g_6**3*hbar**5 + 14451355800*g_6**2*g_8*hbar**6 + 18691874820*g_6*g_7**2*hbar**6 + 324905918400*g_6*g_8**2*hbar**7 + 403196126760*g_7**2*g_8*hbar**7 + 2537527759200*g_8**3*hbar**8, \\omega_a**2)), Bd(a)**2*B(a)**2, 1))"
      ]
     },
     "execution_count": 41,
     "metadata": {},
     "output_type": "execute_result"
    }
   ],
   "source": [
    "(K(0)+K(1)+K(2)).simplify().select(ad**2*a**2)"
   ]
  },
  {
   "cell_type": "code",
   "execution_count": 4,
   "metadata": {},
   "outputs": [
    {
     "data": {
      "text/latex": [
       "$\\displaystyle $"
      ],
      "text/plain": [
       "Terms()"
      ]
     },
     "execution_count": 4,
     "metadata": {},
     "output_type": "execute_result"
    }
   ],
   "source": [
    "K(1)"
   ]
  },
  {
   "cell_type": "code",
   "execution_count": null,
   "metadata": {},
   "outputs": [],
   "source": []
  }
 ],
 "metadata": {
  "kernelspec": {
   "display_name": "base",
   "language": "python",
   "name": "python3"
  },
  "language_info": {
   "codemirror_mode": {
    "name": "ipython",
    "version": 3
   },
   "file_extension": ".py",
   "mimetype": "text/x-python",
   "name": "python",
   "nbconvert_exporter": "python",
   "pygments_lexer": "ipython3",
   "version": "3.9.13"
  },
  "orig_nbformat": 4,
  "vscode": {
   "interpreter": {
    "hash": "e03b612d84ba21ce95ed447e81b3062e1eb99b56c6d885cdab4aaa12f1b8e240"
   }
  }
 },
 "nbformat": 4,
 "nbformat_minor": 2
}
