{
 "cells": [
  {
   "cell_type": "code",
   "execution_count": 21,
   "metadata": {},
   "outputs": [],
   "source": [
    "#!/usr/bin/env python3\n",
    "# -*- coding: utf-8 -*-\n",
    "\"\"\"\n",
    "Created on Wed Jun 16 21:27:50 2021\n",
    "\n",
    "@author: xiaoxu\n",
    "\"\"\"\n",
    "\n",
    "\n",
    "import sympy as smp\n",
    "from sympy import Number, Add, Mul, Pow, Basic, latex, Symbol, I\n",
    "from sympy.physics.secondquant import  Dagger\n",
    "from copy import deepcopy\n",
    "from printable import Basic as Printable,  B, Bd\n",
    "from terms import Term, Terms, Annilator, Creator, Exp, t\n",
    "import pickle\n",
    "\n",
    "class Kamiltonian(Terms):\n",
    "\n",
    "    Ks = {}\n",
    "\n",
    "    @classmethod\n",
    "    def get(cls, n, k):\n",
    "        \"\"\"\n",
    "        get Kamiltonian K(n)_[k] according to the recursive formula.\n",
    "        \"\"\"\n",
    "        key = str([n,k])\n",
    "        # print(key)\n",
    "\n",
    "        if key in cls.Ks.keys():\n",
    "            return cls.Ks[key]\n",
    "\n",
    "        if n == 0 and k == 0:#base case\n",
    "            raise Exception(\"Base case of recursion not specified\")\n",
    "\n",
    "        elif n == 0 and k == 1:\n",
    "            cls.Ks[key] = S(1).dot().simplify()\n",
    "\n",
    "        elif n != 0 and k == 1:\n",
    "            term1 = S(n+1).dot()\n",
    "            term2 = S(n).lie_der(K(0,0))\n",
    "\n",
    "            cls.Ks[key] = (term1 + term2).simplify()\n",
    "            #this can be alternatively expressed as static of term2 - rotating\n",
    "            #parts of other K(n,k'!=k)\n",
    "\n",
    "        elif k > 1 and k <= n+1:\n",
    "            # print(\"general\")\n",
    "            terms = Terms()\n",
    "            for m in range(n):\n",
    "                # print(m,k-1)\n",
    "                terms += S(n-m).lie_der(K(m,k-1))/smp.S(k)\n",
    "            cls.Ks[key] = terms.simplify()\n",
    "        else:\n",
    "            # print(\"zero case\")\n",
    "            return Terms()\n",
    "        # cls.Ks[key].simplify()\n",
    "        return cls.Ks[key]\n",
    "\n",
    "    @classmethod\n",
    "    def set_H(cls, H):\n",
    "        cls.Ks[str([0,0])] = H.simplify()\n",
    "\n",
    "    @classmethod\n",
    "    def dump(cls, fdir):\n",
    "        with open(fdir,'wb') as f:\n",
    "            pickle.dump(cls.Ks,f)\n",
    "\n",
    "    @classmethod\n",
    "    def load(cls, fdir):\n",
    "        with open(fdir,'rb') as f:\n",
    "            cls.Ks = pickle.load(f)\n",
    "\n",
    "\n",
    "class Generator(Terms):\n",
    "    Ss = {}\n",
    "\n",
    "    @classmethod\n",
    "    def get(cls, n):\n",
    "        \"\"\"\n",
    "        get generator S(n) according to the recursive formula.\n",
    "        \"\"\"\n",
    "        if n in cls.Ss.keys(): return cls.Ss[n]\n",
    "\n",
    "        # print(\"S\"+str(n))\n",
    "        terms = Terms()\n",
    "        if n == 0: return Terms()\n",
    "        if n == 1:\n",
    "            terms += smp.S(-1)*K(0,0)\n",
    "        if n > 1:\n",
    "            terms += smp.S(-1)*S(n-1).lie_der(K(0,0))\n",
    "        for k in range(2, n+1):\n",
    "            # print(k, n-1)\n",
    "            terms += smp.S(-1)*K(n-1,k)\n",
    "        terms = terms.rot().integrate()\n",
    "\n",
    "        cls.Ss[n] = terms.simplify()\n",
    "        # print(\"S\"+str(n)+\"done\")\n",
    "        return cls.Ss[n]\n",
    "\n",
    "    @classmethod\n",
    "    def dump(cls, fdir):\n",
    "        with open(fdir,'wb') as f:\n",
    "            pickle.dump(cls.Ss,f)\n",
    "\n",
    "    @classmethod\n",
    "    def load(cls, fdir):\n",
    "        with open(fdir,'rb') as f:\n",
    "            cls.Ss = pickle.load(f)\n",
    "\n",
    "\n",
    "def K(n,k = -1):\n",
    "    if k!= -1: return Kamiltonian.get(n,k)\n",
    "    Kn = Terms()\n",
    "    for ki in range(n+2):\n",
    "        Kn += Kamiltonian.get(n,ki)\n",
    "    return Kn\n",
    "\n",
    "def S(n):\n",
    "    return Generator.get(n)\n",
    "\n",
    "# Term.set_lambda(smp.S(1))\n",
    "\n",
    "hbar = Symbol(\"hbar\", real=True)\n",
    "\n",
    "omega0 = Symbol('\\omega_a')\n",
    "omega1 = Symbol('\\omega_b')\n",
    "g3 = Symbol('g_3')\n",
    "g4 = Symbol('g_4')\n",
    "g5 = Symbol('g_5')\n",
    "g6 = Symbol('g_6')\n",
    "g7 = Symbol('g_7')\n",
    "g8 = Symbol('g_8')\n",
    "delta = Symbol('\\delta')\n",
    "\n",
    "\n",
    "\n",
    "#b = Annilator('a')*Annilator('b')\n",
    "#br = b*Exp(-1*I*omega1*t)\n",
    "#bd = Creator('a')\n",
    "#bdr = bd*Exp(1*I*omega1*t)\n",
    "\n",
    "a = Annilator('a')\n",
    "ar = a*Exp(-1*I*omega0*t)\n",
    "ad = Creator('a')\n",
    "adr = ad*Exp(1*I*omega0*t)\n",
    "\n",
    "#pi = Symbol('\\Pi ', complex=True)\n",
    "#pir = pi*Exp(-1*I*(2*omega0)*t)\n",
    "#pis = pi.conjugate()\n",
    "#pisr = pis*Exp(1*I*(2*omega0)*t)\n",
    "H =  g4*((ar+adr)**4) + g3*((ar+adr)**3) +g5*(ar+adr)**5+g6*(ar+adr)**6\n",
    "#H = g3*(ar+adr)**3+ g4*(ar+adr)**4\n",
    "\n",
    "Kamiltonian.set_H(H)\n",
    "\n",
    "\n"
   ]
  },
  {
   "cell_type": "code",
   "execution_count": 22,
   "metadata": {},
   "outputs": [
    {
     "data": {
      "text/latex": [
       "$\\displaystyle (6 g_{4} + 90 g_{6} \\hbar)\\hat{a}\\dagger ^{2} \\hat{a}^{2}+(12 g_{4} \\hbar + 90 g_{6} \\hbar^{2})\\hat{a}\\dagger  \\hat{a}+(3 g_{4} \\hbar^{2} + 15 g_{6} \\hbar^{3})+20 g_{6}\\hat{a}\\dagger ^{3} \\hat{a}^{3}$"
      ],
      "text/plain": [
       "Terms(Term(Prefactor((6*g_4 + 90*g_6*hbar, 1)), Bd(a)**2*B(a)**2, 1), Term(Prefactor((12*g_4*hbar + 90*g_6*hbar**2, 1)), Bd(a)*B(a), 1), Term(Prefactor((3*g_4*hbar**2 + 15*g_6*hbar**3, 1)), 1, 1), Term(Prefactor((20*g_6, 1)), Bd(a)**3*B(a)**3, 1))"
      ]
     },
     "execution_count": 22,
     "metadata": {},
     "output_type": "execute_result"
    }
   ],
   "source": [
    "(K(0)).simplify()"
   ]
  },
  {
   "cell_type": "code",
   "execution_count": 23,
   "metadata": {},
   "outputs": [
    {
     "data": {
      "text/latex": [
       "$\\displaystyle (3 g_{4} \\hbar^{2} + 15 g_{6} \\hbar^{3} + \\frac{\\hbar \\left(- 11 g_{3}^{2} \\hbar^{2} - 130 g_{3} g_{5} \\hbar^{3} - 42 g_{4}^{2} \\hbar^{3} - 720 g_{4} g_{6} \\hbar^{4} - 449 g_{5}^{2} \\hbar^{4} - 3495 g_{6}^{2} \\hbar^{5}\\right)}{\\omega_{a}})+\\frac{\\hbar \\left(- 660 g_{4} g_{6} - 630 g_{5}^{2} - 19650 g_{6}^{2} \\hbar\\right)}{\\omega_{a}}\\hat{a}\\dagger ^{4} \\hat{a}^{4}+(20 g_{6} + \\frac{\\hbar \\left(- 280 g_{3} g_{5} - 68 g_{4}^{2} - 5280 g_{4} g_{6} \\hbar - 5040 g_{5}^{2} \\hbar - 75100 g_{6}^{2} \\hbar^{2}\\right)}{\\omega_{a}})\\hat{a}\\dagger ^{3} \\hat{a}^{3}+(6 g_{4} + 90 g_{6} \\hbar + \\frac{\\hbar \\left(- 30 g_{3}^{2} - 1260 g_{3} g_{5} \\hbar - 306 g_{4}^{2} \\hbar - 11340 g_{4} g_{6} \\hbar^{2} - 10220 g_{5}^{2} \\hbar^{2} - 102150 g_{6}^{2} \\hbar^{3}\\right)}{\\omega_{a}})\\hat{a}\\dagger ^{2} \\hat{a}^{2}+(12 g_{4} \\hbar + 90 g_{6} \\hbar^{2} + \\frac{\\hbar \\left(- 60 g_{3}^{2} \\hbar - 1100 g_{3} g_{5} \\hbar^{2} - 288 g_{4}^{2} \\hbar^{2} - 6840 g_{4} g_{6} \\hbar^{3} - 5320 g_{5}^{2} \\hbar^{3} - 43650 g_{6}^{2} \\hbar^{4}\\right)}{\\omega_{a}})\\hat{a}\\dagger  \\hat{a}- \\frac{1572 g_{6}^{2} \\hbar}{\\omega_{a}}\\hat{a}\\dagger ^{5} \\hat{a}^{5}$"
      ],
      "text/plain": [
       "Terms(Term(Prefactor((-11*g_3**2*hbar**2 - 130*g_3*g_5*hbar**3 - 42*g_4**2*hbar**3 - 720*g_4*g_6*hbar**4 - 449*g_5**2*hbar**4 - 3495*g_6**2*hbar**5, \\omega_a/hbar), (3*g_4*hbar**2 + 15*g_6*hbar**3, 1)), 1, 1), Term(Prefactor((-660*g_4*g_6 - 630*g_5**2 - 19650*g_6**2*hbar, \\omega_a/hbar)), Bd(a)**4*B(a)**4, 1), Term(Prefactor((-280*g_3*g_5 - 68*g_4**2 - 5280*g_4*g_6*hbar - 5040*g_5**2*hbar - 75100*g_6**2*hbar**2, \\omega_a/hbar), (20*g_6, 1)), Bd(a)**3*B(a)**3, 1), Term(Prefactor((-30*g_3**2 - 1260*g_3*g_5*hbar - 306*g_4**2*hbar - 11340*g_4*g_6*hbar**2 - 10220*g_5**2*hbar**2 - 102150*g_6**2*hbar**3, \\omega_a/hbar), (6*g_4 + 90*g_6*hbar, 1)), Bd(a)**2*B(a)**2, 1), Term(Prefactor((-60*g_3**2*hbar - 1100*g_3*g_5*hbar**2 - 288*g_4**2*hbar**2 - 6840*g_4*g_6*hbar**3 - 5320*g_5**2*hbar**3 - 43650*g_6**2*hbar**4, \\omega_a/hbar), (12*g_4*hbar + 90*g_6*hbar**2, 1)), Bd(a)*B(a), 1), Term(Prefactor((-1572*g_6**2, \\omega_a/hbar)), Bd(a)**5*B(a)**5, 1))"
      ]
     },
     "execution_count": 23,
     "metadata": {},
     "output_type": "execute_result"
    }
   ],
   "source": [
    "(K(1)+K(0)).simplify()"
   ]
  },
  {
   "cell_type": "code",
   "execution_count": 6,
   "metadata": {},
   "outputs": [
    {
     "data": {
      "text/latex": [
       "$\\displaystyle (6 g_{4} + 90 g_{6} \\hbar + \\frac{- 30 g_{3}^{2} - 1260 g_{3} g_{5} \\hbar - 306 g_{4}^{2} \\hbar - 11340 g_{4} g_{6} \\hbar^{2} - 10220 g_{5}^{2} \\hbar^{2} - 102150 g_{6}^{2} \\hbar^{3}}{\\omega_{a}} + \\frac{8100 g_{3}^{2} g_{4} \\hbar + 174540 g_{3}^{2} g_{6} \\hbar^{2} + 309480 g_{3} g_{4} g_{5} \\hbar^{2} + 6153480 g_{3} g_{5} g_{6} \\hbar^{3} + 25164 g_{4}^{3} \\hbar^{2} + 1564560 g_{4}^{2} g_{6} \\hbar^{3} + 2714040 g_{4} g_{5}^{2} \\hbar^{3} + 32148900 g_{4} g_{6}^{2} \\hbar^{4} + 52888720 g_{5}^{2} g_{6} \\hbar^{4} + 222536700 g_{6}^{3} \\hbar^{5}}{\\omega_{a}^{2}})\\hat{a}\\dagger ^{2} \\hat{a}^{2}$"
      ],
      "text/plain": [
       "Terms(Term(Prefactor((8100*g_3**2*g_4*hbar + 174540*g_3**2*g_6*hbar**2 + 309480*g_3*g_4*g_5*hbar**2 + 6153480*g_3*g_5*g_6*hbar**3 + 25164*g_4**3*hbar**2 + 1564560*g_4**2*g_6*hbar**3 + 2714040*g_4*g_5**2*hbar**3 + 32148900*g_4*g_6**2*hbar**4 + 52888720*g_5**2*g_6*hbar**4 + 222536700*g_6**3*hbar**5, \\omega_a**2), (-30*g_3**2 - 1260*g_3*g_5*hbar - 306*g_4**2*hbar - 11340*g_4*g_6*hbar**2 - 10220*g_5**2*hbar**2 - 102150*g_6**2*hbar**3, \\omega_a), (6*g_4 + 90*g_6*hbar, 1)), Bd(a)**2*B(a)**2, 1))"
      ]
     },
     "execution_count": 6,
     "metadata": {},
     "output_type": "execute_result"
    }
   ],
   "source": [
    "(K(2)+K(1)+K(0)).select(ad**2*a**2).simplify()"
   ]
  },
  {
   "cell_type": "code",
   "execution_count": 7,
   "metadata": {},
   "outputs": [
    {
     "data": {
      "text/latex": [
       "$\\displaystyle (6 g_{4} + 90 g_{6} \\hbar + \\frac{- 30 g_{3}^{2} - 1260 g_{3} g_{5} \\hbar - 306 g_{4}^{2} \\hbar - 11340 g_{4} g_{6} \\hbar^{2} - 10220 g_{5}^{2} \\hbar^{2} - 102150 g_{6}^{2} \\hbar^{3}}{\\omega_{a}} + \\frac{8100 g_{3}^{2} g_{4} \\hbar + 174540 g_{3}^{2} g_{6} \\hbar^{2} + 309480 g_{3} g_{4} g_{5} \\hbar^{2} + 6153480 g_{3} g_{5} g_{6} \\hbar^{3} + 25164 g_{4}^{3} \\hbar^{2} + 1564560 g_{4}^{2} g_{6} \\hbar^{3} + 2714040 g_{4} g_{5}^{2} \\hbar^{3} + 32148900 g_{4} g_{6}^{2} \\hbar^{4} + 52888720 g_{5}^{2} g_{6} \\hbar^{4} + 222536700 g_{6}^{3} \\hbar^{5}}{\\omega_{a}^{2}} + \\frac{- 12690 g_{3}^{4} \\hbar - 1228200 g_{3}^{3} g_{5} \\hbar^{2} - 1570836 g_{3}^{2} g_{4}^{2} \\hbar^{2} - 69297120 g_{3}^{2} g_{4} g_{6} \\hbar^{3} - 38631600 g_{3}^{2} g_{5}^{2} \\hbar^{3} - 743772276 g_{3}^{2} g_{6}^{2} \\hbar^{4} - 61178400 g_{3} g_{4}^{2} g_{5} \\hbar^{3} - 2623479024 g_{3} g_{4} g_{5} g_{6} \\hbar^{4} - 508880960 g_{3} g_{5}^{3} \\hbar^{4} - 28135003320 g_{3} g_{5} g_{6}^{2} \\hbar^{5} - 2566170 g_{4}^{4} \\hbar^{3} - 231766920 g_{4}^{3} g_{6} \\hbar^{4} - 575850232 g_{4}^{2} g_{5}^{2} \\hbar^{4} - 7865125920 g_{4}^{2} g_{6}^{2} \\hbar^{5} - 24664631760 g_{4} g_{5}^{2} g_{6} \\hbar^{5} - 120253555800 g_{4} g_{6}^{3} \\hbar^{6} - 2459114280 g_{5}^{4} \\hbar^{5} - 268277860040 g_{5}^{2} g_{6}^{2} \\hbar^{6} - 704235410550 g_{6}^{4} \\hbar^{7}}{\\omega_{a}^{3}})\\hat{a}\\dagger ^{2} \\hat{a}^{2}$"
      ],
      "text/plain": [
       "Terms(Term(Prefactor((-12690*g_3**4*hbar - 1228200*g_3**3*g_5*hbar**2 - 1570836*g_3**2*g_4**2*hbar**2 - 69297120*g_3**2*g_4*g_6*hbar**3 - 38631600*g_3**2*g_5**2*hbar**3 - 743772276*g_3**2*g_6**2*hbar**4 - 61178400*g_3*g_4**2*g_5*hbar**3 - 2623479024*g_3*g_4*g_5*g_6*hbar**4 - 508880960*g_3*g_5**3*hbar**4 - 28135003320*g_3*g_5*g_6**2*hbar**5 - 2566170*g_4**4*hbar**3 - 231766920*g_4**3*g_6*hbar**4 - 575850232*g_4**2*g_5**2*hbar**4 - 7865125920*g_4**2*g_6**2*hbar**5 - 24664631760*g_4*g_5**2*g_6*hbar**5 - 120253555800*g_4*g_6**3*hbar**6 - 2459114280*g_5**4*hbar**5 - 268277860040*g_5**2*g_6**2*hbar**6 - 704235410550*g_6**4*hbar**7, \\omega_a**3), (8100*g_3**2*g_4*hbar + 174540*g_3**2*g_6*hbar**2 + 309480*g_3*g_4*g_5*hbar**2 + 6153480*g_3*g_5*g_6*hbar**3 + 25164*g_4**3*hbar**2 + 1564560*g_4**2*g_6*hbar**3 + 2714040*g_4*g_5**2*hbar**3 + 32148900*g_4*g_6**2*hbar**4 + 52888720*g_5**2*g_6*hbar**4 + 222536700*g_6**3*hbar**5, \\omega_a**2), (-30*g_3**2 - 1260*g_3*g_5*hbar - 306*g_4**2*hbar - 11340*g_4*g_6*hbar**2 - 10220*g_5**2*hbar**2 - 102150*g_6**2*hbar**3, \\omega_a), (6*g_4 + 90*g_6*hbar, 1)), Bd(a)**2*B(a)**2, 1))"
      ]
     },
     "execution_count": 7,
     "metadata": {},
     "output_type": "execute_result"
    }
   ],
   "source": [
    "(K(3)+K(2)+K(1)+K(0)).select(ad**2*a**2).simplify()"
   ]
  },
  {
   "cell_type": "code",
   "execution_count": null,
   "metadata": {},
   "outputs": [],
   "source": [
    "(K(4)+K(3)+K(2)+K(1)+K(0)).select(ad**2*a**2).simplify()"
   ]
  }
 ],
 "metadata": {
  "kernelspec": {
   "display_name": "base",
   "language": "python",
   "name": "python3"
  },
  "language_info": {
   "codemirror_mode": {
    "name": "ipython",
    "version": 3
   },
   "file_extension": ".py",
   "mimetype": "text/x-python",
   "name": "python",
   "nbconvert_exporter": "python",
   "pygments_lexer": "ipython3",
   "version": "3.9.13"
  },
  "orig_nbformat": 4,
  "vscode": {
   "interpreter": {
    "hash": "e03b612d84ba21ce95ed447e81b3062e1eb99b56c6d885cdab4aaa12f1b8e240"
   }
  }
 },
 "nbformat": 4,
 "nbformat_minor": 2
}
